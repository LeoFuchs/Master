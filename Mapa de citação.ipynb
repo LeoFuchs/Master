{
 "cells": [
  {
   "cell_type": "markdown",
   "metadata": {},
   "source": [
    "# Mapa de citação\n",
    "\n",
    "Queremos encontrar alguma forma de criar uma rede de citação entre os artigos do QGS. A partir desta co-citação, iremos analisar os resultados de uma certa busca, notando quais artigos foram alcançados, e se por snowballing a partir deste artigos se alcança todos os demais ou apenas um grupo restrito de artigos.\n",
    "\n",
    "A ideia então é primeiramente encontrar alguma plataforma que consiga formar uma rede de co-citação a partir de um determinado documento. Podemos procurar primeiro uma maneira de extrair as referências de todos os documentos e em seguida formular o mapa de co-citação ou podemos procurar diretamente alguma ferramenta que consegue criar o mapa a partir do próprio artigo em formato PDF.\n",
    "\n",
    "Algumas ferramentas foram encontradas:\n",
    "\n",
    "Co-citação: <br>\n",
    "**Gephi**: Ferramenta nada automatizada, onde apenas se cria um grafo a partir de dados lançados em planilhas. <br>\n",
    "**VOSviewer**: Ferramenta automatizada, porém cria árvores de co-citação a partir de buscar realizadas, útil para fazer o segundo passo da análise, onde iremos conferir os artigos do QGS dentro de uma busca e suas ligações. <br>\n",
    "\n",
    "Extrair Referências: <br>\n",
    "**Grobid** : Extração de referências do artigo em PDF, de maneira que o arquivo de saída esta no formato XML. <br>\n",
    "**CERMINE** : Extração de referências do artigo em PDF, de maneira que o arquivo de saída está no formato XML"
   ]
  },
  {
   "cell_type": "markdown",
   "metadata": {},
   "source": [
    "# VOSviewer\n",
    "\n",
    "http://www.vosviewer.com/\n",
    "\n",
    "Para rodar em linux:\n",
    "\n",
    "1. Abra a pasta onde se encontra o Download do arquivo (http://www.vosviewer.com/download)\n",
    "2. Execute o comando `java -jar VOSviewer.jar`\n",
    "\n",
    "O que nos interessa está no botão Create, ao utilizar o modo \"Create a map based on bibliographic data\", em seguida selecione a base Scopus e insira o .csv gerado da gravação de todos os arquivos resultantes da busca, não se esqueca de acrescentar neste arquivo .csv as referências para que o mapeamento seja possível.\n",
    "\n",
    "# Grobid\n",
    "\n",
    "https://grobid.readthedocs.io/en/latest/\n",
    "\n",
    "https://github.com/kermitt2/grobid\n",
    "\n",
    "Para instalar em linux:\n",
    "<br>\n",
    "`wget https://github.com/kermitt2/grobid/archive/0.5.3.zip` <br>\n",
    "`unzip 0.5.3.zip` <br>\n",
    "`./gradlew clean install` <br>\n",
    "\n",
    "Para rodar em linux: <br>\n",
    "`./gradlew run` <br>\n",
    "\n",
    "Podemos então rodar o seguinte código **na própria pasta dos PDFs** <br>\n",
    "`curl -v --form input=@./teste.pdf fuchs-X510UR:8070/api/processReferences`\n",
    "\n",
    "Existe também um cliente em python:\n",
    "https://github.com/kermitt2/grobid-client-python\n",
    "\n",
    "Neste caso basta fazer algo semelhante a: <br>\n",
    "`python3 grobid-client.py --input /home/fuchs/Downloads/pdf --output /home/fuchs/Downloads/pdf processReferences` <br>\n",
    "\n",
    "Neste caso ele gera um arquivo .XML com diversas informações das referências.\n",
    "\n",
    "\n",
    "# Cermine\n",
    "\n",
    "http://cermine.ceon.pl/index.html\n",
    "\n",
    "https://github.com/CeON/CERMINE\n",
    "\n",
    "Faz algo semelhante ao Grobid, mas ao invés de salvar em um .XML ele salva em um arquivo .TEI (?)\n",
    "\n",
    "`java -cp cermine-impl-1.13-jar-with-dependencies.jar pl.edu.icm.cermine.ContentExtractor -path /home/fuchs/Downloads/pdf`\n",
    "\n",
    "Em tese existe um parametro chamado -outputs que define quais saidas você deseja, e um deles seria \"bibtex - references in BibTeX format\" porém este parametro não funciona de maneira alguma, alegando que tal parametro não pode ser preenchido com bibtex.\n",
    "\n",
    "\n",
    "Sci2 Tool"
   ]
  },
  {
   "cell_type": "markdown",
   "metadata": {},
   "source": [
    "Após investigar diversas ferramentas além das citadas anteriormente, cheguei a conclusão de que provavelmente a VOSviewer seria a que daria melhores frutos se aprendesse a mexer nela corretamente. \n",
    "\n",
    "Com isso, tive uma ideia:\n",
    "\n",
    "1. Criei uma string para a Scopus que retornava todos os artigos do QGS, para isto, basta que eu faça a string no formato `TITLE(\"Nome Artigo 1\" OR \"Nome Artigo 2\" OR \"Nome Artigo 3\" ...)` com isso obtivemos a string abaixo:\n",
    "\n",
    "`TITLE (\"A pilot study using machine learning and domain knowledge to facilitate comparative effectiveness review updating\" OR \"A comparison of automated training-by-example selection algorithms for Evidence Based Software Engineering\" OR \"A method to support search string building in systematic literature reviews through visual text mining\" OR \"A new algorithm for reducing the workload of experts in performing systematic reviews\" OR \"A new iterative method to reduce workload in systematic review process\" OR \"A prospective evaluation of an automated classification system to support evidence-based medicine and systematic review\" OR \"A visual analysis approach to update systematic reviews\" OR \"A visual analysis approach to validate the selection review of primary studies in systematic reviews\" OR \"A visual text mining approach for systematic reviews\" OR \"An svm-based high-quality article classifier for systematic reviews\" OR \"Active learning for biomedical citation screening\" OR \"Automatic text classification to support systematic reviews in medicine\" OR \"Automatically locating results to support systematic reviews in software engineering\" OR \"Building systematic reviews using automatic text classification techniques\" OR \"Classifying biomedical abstracts using committees of classifiers and collective ranking techniques\" OR \"Cross-topic learning for work prioritization in systematic review creation and update\" OR \"DASyR(IR) – document analysis system for systematic reviews (in information retrieval)\" OR \"Deploying an interactive machine learning system in an evidence-based practice center: abstrackr\" OR \"Exploiting the systematic review protocol for classification of medical abstracts\" OR \"Facilitating biomedical systematic reviews using ranked text retrieval and classification\" OR \"Feature engineering and a proposed decision-support system for systematic reviewers of medical evidence\" OR \"Finding better active learners for faster literature reviews\" OR \"Improving the performance of text categorization models used for the selection of high quality articles\" OR \"Linked data approach for selection process automation in systematic reviews\" OR \"Machine learning to assist risk-of-bias assessments in systematic reviews\" OR \"Modeling annotation time to reduce workload in comparative effectiveness reviews\" OR \"Optimizing feature representation for automated systematic review work prioritization\" OR \"Pinpointing needles in giant haystacks: use of text mining to reduce impractical screening workload in extremely large scoping reviews\" OR \"Reducing systematic review workload through certainty-based screening\" OR \"Reducing workload in systematic review preparation using automated citation classification\" OR \"Screening nonrandomized studies for medical systematic reviews: a comparative study of classifiers\" OR \"Semi-automated screening of biomedical citations for systematic reviews\" OR \"Studying the potential impact of automated document classification on scheduling a systematic review update\" OR \"Supporting systematic reviews using text mining\" OR \"Text categorization models for high-quality article retrieval in internal medicine\" OR \"The use of visual text mining to support the study selection activity in systematic literature reviews: a replication study\" OR \"Toward modernizing the systematic review pipeline in genetics: efficient updating via data mining\" OR \"Towards automating the initial screening phase of a systematic review\" OR \"Using classifier performance visualization to improve collective ranking techniques for biomedical abstracts classification\" OR \"Using visual text mining to support the study selection activity in systematic literature reviews\" OR \"Clustering of medical publications for evidence based medicine summarisation\" OR \"Combining relevancy and methodological quality into a single ranking for evidence-based medicine\" OR \"GAPscreener: an automatic tool for screening human genetic association literature in PubMed using the support vector machine technique\" OR \"Parameterized contrast in second order soft co-occurrences: a novel text representation technique in text mining and knowledge extraction\" OR \"Using information visualization and text mining to facilitate the conduction of systematic literature reviews\" OR \"Using the scas strategy to perform the initial selection of studies in systematic reviews: an experimental study\")`\n",
    "\n",
    "2. Inserimos esta string na busca avançada do Scopus, obtendo os 46 artigos que formam o QGS da Revisão.\n",
    "3. Exportamos os artigos em formato .csv incluindo as referências para que seja possivel formar o mapa de citações.\n",
    "4. Com este .csv em mãos, vou ao VOSviewer e coloco a opção \"Create a map based on bibliographic data\", seleciono o .csv na aba Scopus, marco \"Citation\" como o tipo de análise, não altero nas telas seguintes e sinalizo com \"No\" quando ele sugere remover os vérties que não possuem conexões."
   ]
  }
 ],
 "metadata": {
  "kernelspec": {
   "display_name": "Python 3",
   "language": "python",
   "name": "python3"
  },
  "language_info": {
   "codemirror_mode": {
    "name": "ipython",
    "version": 3
   },
   "file_extension": ".py",
   "mimetype": "text/x-python",
   "name": "python",
   "nbconvert_exporter": "python",
   "pygments_lexer": "ipython3",
   "version": "3.6.7"
  }
 },
 "nbformat": 4,
 "nbformat_minor": 2
}
