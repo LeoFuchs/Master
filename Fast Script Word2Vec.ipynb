{
 "cells": [
  {
   "cell_type": "markdown",
   "metadata": {},
   "source": [
    "__Metadata from QGS with 2 topics and 5 words. Improvement with more 1 similar words and Levenshtein distance is 4__\n",
    "\n",
    "The 2 topics with your 5 words in textual format: <br>\n",
    "Topic 1: {systematic - text - mining - review - process} <br>\n",
    "Topic 2: {systematic - learning - reviews - machine - articles} <br>\n",
    "\n",
    "String without improvement: <br>\n",
    "TITLE-ABS-KEY((\"systematic\" AND \"text\" AND \"mining\" AND \"review\" AND \"process\") OR (\"systematic\" AND \"learning\" AND \"reviews\" AND \"machine\" AND \"articles\"))\n",
    "\n",
    "String with improvement: <br>\n",
    "TITLE-ABS-KEY(((\"systematic\" OR \"methodical\") AND (\"text\" OR \"paragraphs\") AND (\"mining\" OR \"Open-pit\") AND (\"review\" OR \"critique\") AND (\"process\" OR \"method\")) OR ((\"systematic\" OR \"methodical\") AND (\"learning\" OR \"knowledge\") AND (\"reviews\" OR \"critiques\") AND (\"machine\" OR \"computer\") AND (\"articles\" OR \"pages\")))\n",
    "\n",
    "**Results from Scopus Search:**\n",
    "\n",
    "<font color='red'> **String without improvement**: 302 results where 24 of the 46 QGS articles are present in the search <br>\n",
    "**String with improvement**: X results where 27 of the 46 QGS articles are present in the search </font>\n",
    "\n",
    "__Metadata from QGS with 2 topics and 7 words. Improvement with more 1 similar words and Levenshtein distance is 4__\n",
    "\n",
    "The 2 topics with your 7 words in textual format: <br>\n",
    "Topic 1: {systematic - text - mining - review - process - method - study} <br>\n",
    "Topic 2: {systematic - learning - reviews - machine - articles - based - classification} <br>\n",
    "\n",
    "String without improvement: <br>\n",
    "TITLE-ABS-KEY((\"systematic\" AND \"text\" AND \"mining\" AND \"review\" AND \"process\" AND \"method\" AND \"study\") OR (\"systematic\" AND \"learning\" AND \"reviews\" AND \"machine\" AND \"articles\" AND \"based\" AND \"classification\"))\n",
    "\n",
    "String with improvement: <br>\n",
    "TITLE-ABS-KEY(((\"systematic\" OR \"methodical\") AND (\"text\" OR \"paragraphs\") AND (\"mining\" OR \"Open-pit\") AND (\"review\" OR \"critique\") AND (\"process\" OR \"method\") AND (\"method\" OR \"procedure\") AND (\"study\" OR \"research\")) OR ((\"systematic\" OR \"methodical\") AND (\"learning\" OR \"knowledge\") AND (\"reviews\" OR \"critiques\") AND (\"machine\" OR \"computer\") AND (\"articles\" OR \"pages\") AND (\"based\" OR \"depends\") AND (\"classification\" OR \"taxonomy\")))\n",
    "\n",
    "**Results from Scopus Search:**\n",
    "\n",
    "<font color='red'> **String without improvement**: 90 results where 17 of the 46 QGS articles are present in the search <br>\n",
    "**String with improvement**: 231 results where 21 of the 46 QGS articles are present in the search </font>\n"
   ]
  }
 ],
 "metadata": {
  "kernelspec": {
   "display_name": "Python 3",
   "language": "python",
   "name": "python3"
  },
  "language_info": {
   "codemirror_mode": {
    "name": "ipython",
    "version": 3
   },
   "file_extension": ".py",
   "mimetype": "text/x-python",
   "name": "python",
   "nbconvert_exporter": "python",
   "pygments_lexer": "ipython3",
   "version": "3.6.7"
  }
 },
 "nbformat": 4,
 "nbformat_minor": 2
}
