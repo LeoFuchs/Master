{
 "cells": [
  {
   "cell_type": "markdown",
   "metadata": {},
   "source": [
    "# Co-citação\n",
    "\n",
    "Queremos encontrar alguma forma de criar uma rede de co-citação entre os artigos do QGS. A partir desta co-citação, iremos analisar os resultados de uma certa busca, notando quais artigos foram alcançados, e se por snowballing a partir deste artigos se alcança todos os demais ou apenas um grupo restrito de artigos.\n",
    "\n",
    "A ideia então é primeiramente encontrar alguma plataforma que consiga formar uma rede de co-citação a partir de um determinado documento. Podemos procurar primeiro uma maneira de extrair as referências de todos os documentos e em seguida formular o mapa de co-citação ou podemos procurar diretamente alguma ferramenta que consegue criar o mapa a partir do próprio artigo em formato PDF.\n",
    "\n",
    "Algumas ferramentas foram encontradas:\n",
    "\n",
    "Co-citação: <br>\n",
    "**Gephi**: Ferramenta nada automatizada, onde apenas se cria um grafo a partir de dados lançados em planilhas. <br>\n",
    "**VOSviewer**: Ferramenta automatizada, porém cria árvores de co-citação a partir de buscar realizadas, útil para fazer o segundo passo da análise, onde iremos conferir os artigos do QGS dentro de uma busca e suas ligações. <br>\n",
    "\n",
    "Extrair Referências: <br>\n",
    "**Grobid** : Extração de referências do artigo em PDF, de maneira que o arquivo de saída esta no formato XML. <br>\n",
    "**CERMINE** : Extração de referências do artigo em PDF, de maneira que o arquivo de saída está no formato XML"
   ]
  },
  {
   "cell_type": "markdown",
   "metadata": {},
   "source": [
    "# VOSviewer\n",
    "\n",
    "http://www.vosviewer.com/\n",
    "\n",
    "Para rodar em linux:\n",
    "\n",
    "1. Abra a pasta onde se encontra o Download do arquivo (http://www.vosviewer.com/download)\n",
    "2. Execute o comando `java -jar VOSviewer.jar`\n",
    "\n",
    "O que nos interessa está no botão Create, ao utilizar o modo \"Create a map based on bibliographic data\", em seguida selecione a base Scopus e insira o .csv gerado da gravação de todos os arquivos resultantes da busca, não se esqueca de acrescentar neste arquivo .csv as referências para que o mapeamento seja possível.\n",
    "\n",
    "# Grobid\n",
    "\n",
    "https://grobid.readthedocs.io/en/latest/\n",
    "\n",
    "https://github.com/kermitt2/grobid\n",
    "\n",
    "Para instalar em linux:\n",
    "<br>\n",
    "`wget https://github.com/kermitt2/grobid/archive/0.5.3.zip` <br>\n",
    "`unzip 0.5.3.zip` <br>\n",
    "`./gradlew clean install` <br>\n",
    "\n",
    "Para rodar em linux: <br>\n",
    "`./gradlew run` <br>\n",
    "\n",
    "Podemos então rodar o seguinte código **na própria pasta dos PDFs** <br>\n",
    "`curl -v --form input=@./teste.pdf fuchs-X510UR:8070/api/processReferences`\n",
    "\n",
    "Existe também um cliente em python:\n",
    "https://github.com/kermitt2/grobid-client-python\n",
    "\n",
    "Neste caso basta fazer algo semelhante a: <br>\n",
    "`python3 grobid-client.py --input /home/fuchs/Downloads/pdf --output /home/fuchs/Downloads/pdf processReferences` <br>\n",
    "\n",
    "Neste caso ele gera um arquivo .XML com diversas informações das referências.\n",
    "\n",
    "\n",
    "# Cermine\n",
    "\n",
    "http://cermine.ceon.pl/index.html\n",
    "\n",
    "https://github.com/CeON/CERMINE\n",
    "\n",
    "Faz algo semelhante ao Grobid, mas ao invés de salvar em um .XML ele salva em um arquivo .TEI (?)\n",
    "\n",
    "`java -cp cermine-impl-1.13-jar-with-dependencies.jar pl.edu.icm.cermine.ContentExtractor -path /home/fuchs/Downloads/pdf`\n",
    "\n",
    "Em tese existe um parametro chamado -outputs que define quais saidas você deseja, e um deles seria \"bibtex - references in BibTeX format\" porém este parametro não funciona de maneira alguma, alegando que tal parametro não pode ser preenchido com bibtex.\n",
    "\n",
    "\n",
    "Sci2 Tool"
   ]
  },
  {
   "cell_type": "code",
   "execution_count": null,
   "metadata": {},
   "outputs": [],
   "source": []
  }
 ],
 "metadata": {
  "kernelspec": {
   "display_name": "Python 3",
   "language": "python",
   "name": "python3"
  },
  "language_info": {
   "codemirror_mode": {
    "name": "ipython",
    "version": 3
   },
   "file_extension": ".py",
   "mimetype": "text/x-python",
   "name": "python",
   "nbconvert_exporter": "python",
   "pygments_lexer": "ipython3",
   "version": "3.6.7"
  }
 },
 "nbformat": 4,
 "nbformat_minor": 2
}
