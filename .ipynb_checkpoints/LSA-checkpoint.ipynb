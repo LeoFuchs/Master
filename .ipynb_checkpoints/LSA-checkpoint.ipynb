{
 "cells": [
  {
   "cell_type": "markdown",
   "metadata": {},
   "source": [
    "\n",
    "# Extração de Tópicos com Latent Semantic Analysis (LSA)\n",
    "\n",
    "\n",
    "Exemplos oferecidos pelo próprio scikit-learn no seguinte link:\n",
    "\n",
    "* https://scikit-learn.org/stable/modules/generated/sklearn.decomposition.TruncatedSVD.html\n",
    "\n",
    "\n"
   ]
  },
  {
   "cell_type": "markdown",
   "metadata": {},
   "source": [
    "# Novo QGS\n",
    "\n",
    "Iremos adotar a partir de agora um novo QGS, com 52 artigos relacionados a mineração de texto em auxílio à revisões sistemáticas da literatura, encontrados [aqui](Files-QGS/QGS-ia-pdf). Também está disponível uma planilha [aqui](Files-QGS/QGS.ods) com todos os nomes destes arquivos e se estes estão localizados na base de dados Scopus ou não. A principio, utilizaremos um dataset do QGS em formato .txt que possui apenas o título, palavras-chave e o resumo destes artigos, localizado [aqui](Files-QGS/QGS-ia-txt/metadata/).\n",
    "\n",
    "Importante salientar que dos 52 arquivos utilizados como QGS **46** estão presentes na base de dados Scopus (Ao se procurar pelo titulo destes, são encontrados com facilidade).\n",
    "\n",
    "Abaixo segue um código exemplo de como foi acessado tal base e efetuado novamente os testes realizados com o QGS anterior, alterando apenas os valores de number_topics e number_words."
   ]
  },
  {
   "cell_type": "code",
   "execution_count": null,
   "metadata": {},
   "outputs": [],
   "source": []
  }
 ],
 "metadata": {
  "kernelspec": {
   "display_name": "Python 2",
   "language": "python",
   "name": "python2"
  },
  "language_info": {
   "codemirror_mode": {
    "name": "ipython",
    "version": 2
   },
   "file_extension": ".py",
   "mimetype": "text/x-python",
   "name": "python",
   "nbconvert_exporter": "python",
   "pygments_lexer": "ipython2",
   "version": "2.7.15rc1"
  }
 },
 "nbformat": 4,
 "nbformat_minor": 2
}
