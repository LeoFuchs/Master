{
 "cells": [
  {
   "cell_type": "markdown",
   "metadata": {},
   "source": [
    "The 2 topics with your 5 words in textual format: \n",
    "\n",
    "Topic 1: {data - set - systematic - review - learning}\n",
    "\n",
    "Most Similar Words for: data\n",
    "[('Data', 0.7266719341278076), ('datasets', 0.7077047228813171), ('dataset', 0.6963621377944946), ('statistics', 0.6708579659461975), ('data--', 0.6617765426635742)]\n",
    "Most Similar Words for: set\n",
    "[('sets', 0.7867860794067383), ('setting', 0.7834097146987915), ('Setting', 0.643237829208374), ('Set', 0.6295300722122192), ('ablaze', 0.6186245679855347)]\n",
    "Most Similar Words for: systematic\n",
    "[('systematical', 0.7142950296401978), ('Systematic', 0.7007690072059631), ('methodical', 0.6836726069450378), ('systemic', 0.6658313274383545), ('thorough', 0.6655789017677307)]\n",
    "Most Similar Words for: review\n",
    "[('reviews', 0.728659987449646), ('reviewing', 0.719846785068512), ('reivew', 0.6980528831481934), ('reviewed', 0.6855067014694214), ('reveiw', 0.6757717728614807)]\n",
    "Most Similar Words for: learning\n",
    "[('teaching', 0.7239946126937866), ('Learning', 0.6977978944778442), ('learning-', 0.6400254964828491), ('education', 0.6377506256103516), ('learner', 0.6290823221206665)]\n",
    "Topic 2: {studies - study - selection - process - review}\n",
    "\n",
    "Most Similar Words for: studies\n",
    "[('study', 0.7538026571273804), ('analyses', 0.727699875831604), ('research', 0.6781468987464905), ('investigations', 0.6733194589614868), ('researches', 0.6729089021682739)]\n",
    "Most Similar Words for: study\n",
    "[('studies', 0.7538027167320251), ('Study', 0.6778719425201416), ('research', 0.6631730794906616), ('studying', 0.6518419981002808), ('re-study', 0.6236188411712646)]\n",
    "Most Similar Words for: selection\n",
    "[('selections', 0.7977070212364197), ('Selection', 0.7155554294586182), ('selecting', 0.6955426335334778), ('choice', 0.6598418951034546), ('selected', 0.6417040228843689)]\n",
    "Most Similar Words for: process\n",
    "[('processes', 0.7954971790313721), ('processs', 0.7183380722999573), ('procedure', 0.6960651874542236), ('Process', 0.6732850074768066), ('process.', 0.6723214983940125)]\n",
    "Most Similar Words for: review\n",
    "[('reviews', 0.728659987449646), ('reviewing', 0.719846785068512), ('reivew', 0.6980528831481934), ('reviewed', 0.6855067014694214), ('reveiw', 0.6757717728614807)]\n"
   ]
  }
 ],
 "metadata": {
  "kernelspec": {
   "display_name": "Python 3",
   "language": "python",
   "name": "python3"
  },
  "language_info": {
   "codemirror_mode": {
    "name": "ipython",
    "version": 3
   },
   "file_extension": ".py",
   "mimetype": "text/x-python",
   "name": "python",
   "nbconvert_exporter": "python",
   "pygments_lexer": "ipython3",
   "version": "3.6.7"
  }
 },
 "nbformat": 4,
 "nbformat_minor": 2
}
