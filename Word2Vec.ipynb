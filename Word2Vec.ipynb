{
 "cells": [
  {
   "cell_type": "markdown",
   "metadata": {},
   "source": [
    "# Tests with Word2Vec\n",
    "\n",
    "## Test 1:\n",
    "\n",
    "**Complete data from QGS with 2 topics and 5 words:**\n",
    "\n",
    "The 2 topics with your 5 words in textual format: \n",
    "Topic 1: {studies - study - selection - process - review}\n",
    "\n",
    "Topic 2: {data - set - systematic - review - learning}\n",
    "\n",
    "String without improvement:\n",
    "TITLE-ABS-KEY((\"studies\" AND \"study\" AND \"selection\" AND \"process\" AND \"review\") OR (\"data\" AND \"set\" AND \"systematic\" AND \"review\" AND \"learning\"))\n",
    "\n",
    "\n",
    "String with improvement:\n",
    "TITLE-ABS-KEY(((\"studies\" OR \"study\" OR \"analyses\") AND (\"study\" OR \"studies\" OR \"Study\") AND (\"selection\" OR \"selections\" OR \"Selection\") AND (\"process\" OR \"processes\" OR \"processs\") AND (\"review\" OR \"reviews\" OR \"reviewing\")) OR ((\"data\" OR \"Data\" OR \"datasets\") AND (\"set\" OR \"sets\" OR \"setting\") AND (\"systematic\" OR \"systematical\" OR \"Systematic\") AND (\"review\" OR \"reviews\" OR \"reviewing\") AND (\"learning\" OR \"teaching\" OR \"Learning\")))\n",
    "\n",
    "**Results from Scopus Search:**\n",
    "\n",
    "String without improvement: 13,126 Results\n",
    "String with improvement: 13,729 Results\n",
    "\n",
    "**Metadata from QGS with 2 topics and 5 words:**\n",
    "\n"
   ]
  },
  {
   "cell_type": "code",
   "execution_count": null,
   "metadata": {},
   "outputs": [],
   "source": []
  }
 ],
 "metadata": {
  "kernelspec": {
   "display_name": "Python 3",
   "language": "python",
   "name": "python3"
  },
  "language_info": {
   "codemirror_mode": {
    "name": "ipython",
    "version": 3
   },
   "file_extension": ".py",
   "mimetype": "text/x-python",
   "name": "python",
   "nbconvert_exporter": "python",
   "pygments_lexer": "ipython3",
   "version": "3.6.7"
  }
 },
 "nbformat": 4,
 "nbformat_minor": 2
}
